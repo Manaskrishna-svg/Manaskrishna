{
  "cells": [
    {
      "cell_type": "markdown",
      "metadata": {
        "id": "view-in-github",
        "colab_type": "text"
      },
      "source": [
        "<a href=\"https://colab.research.google.com/github/Manaskrishna-svg/Manaskrishna/blob/main/numpy_pandas_casestudy_questionsc.ipynb\" target=\"_parent\"><img src=\"https://colab.research.google.com/assets/colab-badge.svg\" alt=\"Open In Colab\"/></a>"
      ]
    },
    {
      "cell_type": "markdown",
      "metadata": {
        "id": "SoRrJodnqFfK"
      },
      "source": [
        "# 📚 **NumPy, Pandas, Matplotlib, and Seaborn Practice Questions**\n",
        "---\n",
        "This notebook contains four sets of practice questions covering NumPy, Pandas, Matplotlib, and Seaborn. Complete the tasks below and run the respective cells."
      ],
      "id": "SoRrJodnqFfK"
    },
    {
      "cell_type": "markdown",
      "metadata": {
        "id": "7ocVVkp6qFfL"
      },
      "source": [
        "## 🧠 **Question 1: NumPy Array Manipulation**\n",
        "1. Create a 1D NumPy array with integers from **1 to 24**.  \n",
        "2. Reshape the array into a **4x6 matrix**.  \n",
        "3. Extract the **third row** and **second column** from the reshaped array.  \n",
        "4. Transpose the matrix and display the result."
      ],
      "id": "7ocVVkp6qFfL"
    },
    {
      "cell_type": "code",
      "metadata": {
        "colab": {
          "base_uri": "https://localhost:8080/"
        },
        "id": "0bT8EU1KqFfL",
        "outputId": "3f7a0679-5c04-415a-8695-727f6d30647a"
      },
      "source": [
        "# Solution for Question 1\n",
        "import numpy as np\n",
        "x=np.arange(1,25)\n",
        "print(x)\n",
        "# Your code here"
      ],
      "outputs": [
        {
          "output_type": "stream",
          "name": "stdout",
          "text": [
            "[ 1  2  3  4  5  6  7  8  9 10 11 12 13 14 15 16 17 18 19 20 21 22 23 24]\n"
          ]
        }
      ],
      "id": "0bT8EU1KqFfL",
      "execution_count": 1
    },
    {
      "cell_type": "code",
      "source": [
        " matrix=x.reshape(4,6)\n",
        " print(matrix)"
      ],
      "metadata": {
        "colab": {
          "base_uri": "https://localhost:8080/"
        },
        "id": "t7V7KuoUqX6T",
        "outputId": "963c48fa-f745-4c00-a3c5-93b03403c149"
      },
      "id": "t7V7KuoUqX6T",
      "execution_count": 2,
      "outputs": [
        {
          "output_type": "stream",
          "name": "stdout",
          "text": [
            "[[ 1  2  3  4  5  6]\n",
            " [ 7  8  9 10 11 12]\n",
            " [13 14 15 16 17 18]\n",
            " [19 20 21 22 23 24]]\n"
          ]
        }
      ]
    },
    {
      "cell_type": "code",
      "source": [
        "import pandas as pd\n",
        "third_row =matrix[2,:]\n",
        "second_row= matrix[:,1]\n",
        "print(third_row)\n",
        "print(second_row)"
      ],
      "metadata": {
        "colab": {
          "base_uri": "https://localhost:8080/"
        },
        "id": "XcLpF4NeqobB",
        "outputId": "344e94ce-a19b-4693-b3c6-0b8f0f08ff3f"
      },
      "id": "XcLpF4NeqobB",
      "execution_count": 4,
      "outputs": [
        {
          "output_type": "stream",
          "name": "stdout",
          "text": [
            "[13 14 15 16 17 18]\n",
            "[ 2  8 14 20]\n"
          ]
        }
      ]
    },
    {
      "cell_type": "code",
      "source": [
        "transposed_matrix=matrix.T\n",
        "print(transposed_matrix)"
      ],
      "metadata": {
        "colab": {
          "base_uri": "https://localhost:8080/"
        },
        "id": "TVv0P3uWrLeq",
        "outputId": "f739f018-5c82-48db-bdbe-9e1e7b8c5fd6"
      },
      "id": "TVv0P3uWrLeq",
      "execution_count": 6,
      "outputs": [
        {
          "output_type": "stream",
          "name": "stdout",
          "text": [
            "[[ 1  7 13 19]\n",
            " [ 2  8 14 20]\n",
            " [ 3  9 15 21]\n",
            " [ 4 10 16 22]\n",
            " [ 5 11 17 23]\n",
            " [ 6 12 18 24]]\n"
          ]
        }
      ]
    },
    {
      "cell_type": "markdown",
      "metadata": {
        "id": "z3CNTvM0qFfM"
      },
      "source": [
        "##. 🧠 **Question 2: Array Element Extraction**\n",
        "1. Create a **5x5 NumPy array** with random integers between **10 and 100**.  \n",
        "2. Extract all the **even numbers** from the array.  \n",
        "3. Replace all numbers **greater than 50** with **0**.  \n",
        "4. Extract the diagonal elements of the array."
      ],
      "id": "z3CNTvM0qFfM"
    },
    {
      "cell_type": "code",
      "metadata": {
        "colab": {
          "base_uri": "https://localhost:8080/"
        },
        "id": "5Ttn4iEtqFfM",
        "outputId": "33c0d38f-d895-427b-9a1d-8bcd5c5c1655"
      },
      "source": [
        "# Solution for Question 2\n",
        "import numpy as np\n",
        "xyz=np.random.randint(10,101,(5,5))\n",
        "print(xyz)\n",
        "# Your code here"
      ],
      "outputs": [
        {
          "output_type": "stream",
          "name": "stdout",
          "text": [
            "[[ 37  56  94  26  59]\n",
            " [100  93  41  72  89]\n",
            " [ 26  56  95  87  17]\n",
            " [ 10  56  59  32  61]\n",
            " [ 65  89  31  83  17]]\n"
          ]
        }
      ],
      "id": "5Ttn4iEtqFfM",
      "execution_count": 1
    },
    {
      "cell_type": "code",
      "source": [
        "even_number=xyz[xyz%2==0]\n",
        "print(even_number)"
      ],
      "metadata": {
        "colab": {
          "base_uri": "https://localhost:8080/"
        },
        "id": "ztr9MCOvr-S_",
        "outputId": "49d84f30-aec4-41e8-c1e4-79205bae4013"
      },
      "id": "ztr9MCOvr-S_",
      "execution_count": 2,
      "outputs": [
        {
          "output_type": "stream",
          "name": "stdout",
          "text": [
            "[ 56  94  26 100  72  26  56  10  56  32]\n"
          ]
        }
      ]
    },
    {
      "cell_type": "code",
      "source": [
        "modified_xyz=np.where(xyz>50,0,xyz)\n",
        "print(modified_xyz)"
      ],
      "metadata": {
        "colab": {
          "base_uri": "https://localhost:8080/"
        },
        "id": "0fcQHIxAsY2a",
        "outputId": "48072a13-06ea-435d-b9ba-b06c1648947d"
      },
      "id": "0fcQHIxAsY2a",
      "execution_count": 3,
      "outputs": [
        {
          "output_type": "stream",
          "name": "stdout",
          "text": [
            "[[37  0  0 26  0]\n",
            " [ 0  0 41  0  0]\n",
            " [26  0  0  0 17]\n",
            " [10  0  0 32  0]\n",
            " [ 0  0 31  0 17]]\n"
          ]
        }
      ]
    },
    {
      "cell_type": "code",
      "source": [
        "diagonal_elements=np.diag(xyz)\n",
        "print(diagonal_elements)"
      ],
      "metadata": {
        "colab": {
          "base_uri": "https://localhost:8080/"
        },
        "id": "2DruYoa8s0Yt",
        "outputId": "774ade8b-40aa-49ff-8c0d-b3d8166ecf2c"
      },
      "id": "2DruYoa8s0Yt",
      "execution_count": 4,
      "outputs": [
        {
          "output_type": "stream",
          "name": "stdout",
          "text": [
            "[37 93 95 32 17]\n"
          ]
        }
      ]
    },
    {
      "cell_type": "markdown",
      "metadata": {
        "id": "_dgfgdlTqFfM"
      },
      "source": [
        "## 🧠 **Question 3: DataFrame Creation and Operations (Pandas)**\n",
        "1. Create a Pandas DataFrame containing the following data:\n",
        "\n",
        "| Student_ID | Name   | Subject | Marks |\n",
        "|------------|--------|---------|-------|\n",
        "| 1          | Alice  | Math    | 88    |\n",
        "| 2          | Bob    | Science | 75    |\n",
        "| 3          | Carol  | History | 92    |\n",
        "| 4          | David  | Math    | 85    |\n",
        "| 5          | Eva    | Science | 90    |\n",
        "\n",
        "2. Find the **average marks** for each subject.  \n",
        "3. Add a new column named **Grade** based on the marks:\n",
        "- Marks ≥ 90 → A\n",
        "- Marks ≥ 80 → B\n",
        "- Marks ≥ 70 → C\n",
        "- Else → D"
      ],
      "id": "_dgfgdlTqFfM"
    },
    {
      "cell_type": "code",
      "metadata": {
        "colab": {
          "base_uri": "https://localhost:8080/"
        },
        "id": "dG4MQ66-qFfM",
        "outputId": "c064756a-58c9-4265-d77e-275e4c209f9f"
      },
      "source": [
        "# Solution for Question 3\n",
        "import pandas as pd\n",
        "\n",
        "data={\"student-id\":[1,2,3,4,5],\"name\":[\"Alice\",\"Bob\",\"Carol\",\"David\",\"Eva\"],\"subject\":[\"Math\",\"Science\",\"History\",\"Math\",\"Science\"],\"marks\":[88,75,92,85,90]}\n",
        "df=pd.DataFrame(data)\n",
        "print(\"data:\\n\",df)\n",
        "# Your code here"
      ],
      "outputs": [
        {
          "output_type": "stream",
          "name": "stdout",
          "text": [
            "data:\n",
            "    student-id   name  subject  marks\n",
            "0           1  Alice     Math     88\n",
            "1           2    Bob  Science     75\n",
            "2           3  Carol  History     92\n",
            "3           4  David     Math     85\n",
            "4           5    Eva  Science     90\n"
          ]
        }
      ],
      "id": "dG4MQ66-qFfM",
      "execution_count": 1
    },
    {
      "cell_type": "code",
      "source": [
        "average_mark=df.groupby(\"subject\")[\"marks\"].mean()\n",
        "print(average_mark)"
      ],
      "metadata": {
        "colab": {
          "base_uri": "https://localhost:8080/"
        },
        "id": "KxkhzcP5vNzd",
        "outputId": "d32e4cb4-89f5-4d05-ff06-665001f97777"
      },
      "id": "KxkhzcP5vNzd",
      "execution_count": 3,
      "outputs": [
        {
          "output_type": "stream",
          "name": "stdout",
          "text": [
            "subject\n",
            "History    92.0\n",
            "Math       86.5\n",
            "Science    82.5\n",
            "Name: marks, dtype: float64\n"
          ]
        }
      ]
    },
    {
      "cell_type": "code",
      "source": [
        "def asign_grade(marks):\n",
        "  if marks>=90:\n",
        "    return \"A\"\n",
        "  elif marks>=80:\n",
        "    return \"B\"\n",
        "  elif marks>=70:\n",
        "    return \"C\"\n",
        "  else :\n",
        "    return \"D\"\n",
        "df[\"grade\"]=df[\"marks\"].apply(asign_grade)\n",
        "print(\"\\nDataFrame with gradfes:\\n\",df)"
      ],
      "metadata": {
        "colab": {
          "base_uri": "https://localhost:8080/"
        },
        "id": "3bgxXm58v0B2",
        "outputId": "b925b1f2-321a-4d02-8008-a2ce9bcf7923"
      },
      "id": "3bgxXm58v0B2",
      "execution_count": 21,
      "outputs": [
        {
          "output_type": "stream",
          "name": "stdout",
          "text": [
            "\n",
            "DataFrame with gradfes:\n",
            "    student-id   name  subject  marks grade\n",
            "0           1  Alice     Math     88     B\n",
            "1           2    Bob  Science     75     C\n",
            "2           3  Carol  History     92     A\n",
            "3           4  David     Math     85     B\n",
            "4           5    Eva  Science     90     A\n"
          ]
        }
      ]
    },
    {
      "cell_type": "markdown",
      "metadata": {
        "id": "fg19oIC0qFfM"
      },
      "source": [
        "## 🧠 **Question 4: Dataset Analysis (Pandas, Matplotlib, Seaborn)**\n",
        "Use the dataset `diabetes.csv` and perform the following tasks:\n",
        "\n",
        "1. Display the **BMI** and **Blood Pressure** for samples with **index ranging from 20 to 40**.  \n",
        "2. Find how many patients have **BMI > 30**.  \n",
        "3. Find the **mean and standard deviation** of the **Glucose** levels.  \n",
        "4. Plot a **boxplot** for the column **Insulin**.  \n",
        "5. Create a **heatmap** showing the correlation between the numerical columns in the dataset."
      ],
      "id": "fg19oIC0qFfM"
    },
    {
      "cell_type": "code",
      "metadata": {
        "id": "68Bo-GuDqFfN"
      },
      "source": [
        "# Solution for Question 4\n",
        "import pandas as pd\n",
        "import matplotlib.pyplot as plt\n",
        "import seaborn as sns\n",
        "# Your code here"
      ],
      "outputs": [],
      "id": "68Bo-GuDqFfN",
      "execution_count": 23
    },
    {
      "cell_type": "code",
      "source": [
        "data=pd.read_csv('/content/diabetes_model (1).csv')\n",
        "print(data)"
      ],
      "metadata": {
        "colab": {
          "base_uri": "https://localhost:8080/"
        },
        "id": "Jv_Hf0nYzwPD",
        "outputId": "83a0edb6-ab95-43f8-c606-1aaaed52ff07"
      },
      "id": "Jv_Hf0nYzwPD",
      "execution_count": 24,
      "outputs": [
        {
          "output_type": "stream",
          "name": "stdout",
          "text": [
            "     Pregnancies  Glucose  BloodPressure  SkinThickness  Insulin   BMI  \\\n",
            "0              5       77             82             41       42  35.8   \n",
            "1              9      122             56              0        0  33.3   \n",
            "2              0      113             76              0        0  33.3   \n",
            "3              1      139             62             41      480  40.7   \n",
            "4             10      161             68             23      132  25.5   \n",
            "..           ...      ...            ...            ...      ...   ...   \n",
            "609            4      114             64              0        0  28.9   \n",
            "610            2      175             88              0        0  22.9   \n",
            "611            3      121             52              0        0  36.0   \n",
            "612            7      136             74             26      135  26.0   \n",
            "613            4      156             75              0        0  48.3   \n",
            "\n",
            "     DiabetesPedigreeFunction  Age  Outcome  \n",
            "0                       0.156   35        0  \n",
            "1                       1.114   33        1  \n",
            "2                       0.278   23        1  \n",
            "3                       0.536   21        0  \n",
            "4                       0.326   47        1  \n",
            "..                        ...  ...      ...  \n",
            "609                     0.126   24        0  \n",
            "610                     0.326   22        0  \n",
            "611                     0.127   25        1  \n",
            "612                     0.647   51        0  \n",
            "613                     0.238   32        1  \n",
            "\n",
            "[614 rows x 9 columns]\n"
          ]
        }
      ]
    },
    {
      "cell_type": "code",
      "source": [
        "print(\"BMI and Blood Pressure for index 20 to 40:\\n\",data.loc[20:40],[\"BMI\"],[\"Blood Pressure\"])"
      ],
      "metadata": {
        "colab": {
          "base_uri": "https://localhost:8080/"
        },
        "id": "QJ7g4vOG0FKe",
        "outputId": "1b4d7562-faf5-4ebb-bc42-4e2e4f5c91ef"
      },
      "id": "QJ7g4vOG0FKe",
      "execution_count": 25,
      "outputs": [
        {
          "output_type": "stream",
          "name": "stdout",
          "text": [
            "BMI and Blood Pressure for index 20 to 40:\n",
            "     Pregnancies  Glucose  BloodPressure  SkinThickness  Insulin   BMI  \\\n",
            "20           13      106             70              0        0  34.2   \n",
            "21            1       95             82             25      180  35.0   \n",
            "22            3      182             74              0        0  30.5   \n",
            "23            3      163             70             18      105  31.6   \n",
            "24            0      139             62             17      210  22.1   \n",
            "25            1      108             88             19        0  27.1   \n",
            "26            1       79             60             42       48  43.5   \n",
            "27            5      109             75             26        0  36.0   \n",
            "28            1      106             70             28      135  34.2   \n",
            "29            0      180             90             26       90  36.5   \n",
            "30            7      161             86              0        0  30.4   \n",
            "31            2      128             78             37      182  43.3   \n",
            "32            7      187             68             39      304  37.7   \n",
            "33            3      122             78              0        0  23.0   \n",
            "34            6      154             78             41      140  46.1   \n",
            "35            9      164             78              0        0  32.8   \n",
            "36            1      103             30             38       83  43.3   \n",
            "37            1      107             68             19        0  26.5   \n",
            "38            4       90              0              0        0  28.0   \n",
            "39           11      111             84             40        0  46.8   \n",
            "40            8       85             55             20        0  24.4   \n",
            "\n",
            "    DiabetesPedigreeFunction  Age  Outcome  \n",
            "20                     0.251   52        0  \n",
            "21                     0.233   43        1  \n",
            "22                     0.345   29        1  \n",
            "23                     0.268   28        1  \n",
            "24                     0.207   21        0  \n",
            "25                     0.400   24        0  \n",
            "26                     0.678   23        0  \n",
            "27                     0.546   60        0  \n",
            "28                     0.142   22        0  \n",
            "29                     0.314   35        1  \n",
            "30                     0.165   47        1  \n",
            "31                     1.224   31        1  \n",
            "32                     0.254   41        1  \n",
            "33                     0.254   40        0  \n",
            "34                     0.571   27        0  \n",
            "35                     0.148   45        1  \n",
            "36                     0.183   33        0  \n",
            "37                     0.165   24        0  \n",
            "38                     0.610   31        0  \n",
            "39                     0.925   45        1  \n",
            "40                     0.136   42        0   ['BMI'] ['Blood Pressure']\n"
          ]
        }
      ]
    },
    {
      "cell_type": "code",
      "source": [
        "bmi_greater_than_30=data[data[\"BMI\"]>30]\n",
        "print(\"\\nNumber of patients with  BMI>30:\",bmi_greater_than_30)"
      ],
      "metadata": {
        "colab": {
          "base_uri": "https://localhost:8080/"
        },
        "id": "hfO0Ap7j1MPI",
        "outputId": "87788175-0f26-4487-bb4f-db174243f5cc"
      },
      "id": "hfO0Ap7j1MPI",
      "execution_count": 28,
      "outputs": [
        {
          "output_type": "stream",
          "name": "stdout",
          "text": [
            "\n",
            "Number of patients with  BMI>30:      Pregnancies  Glucose  BloodPressure  SkinThickness  Insulin   BMI  \\\n",
            "0              5       77             82             41       42  35.8   \n",
            "1              9      122             56              0        0  33.3   \n",
            "2              0      113             76              0        0  33.3   \n",
            "3              1      139             62             41      480  40.7   \n",
            "7              2      122             52             43      158  36.2   \n",
            "..           ...      ...            ...            ...      ...   ...   \n",
            "604            2      100             70             52       57  40.5   \n",
            "605            5       86             68             28       71  30.2   \n",
            "607            5      143             78              0        0  45.0   \n",
            "611            3      121             52              0        0  36.0   \n",
            "613            4      156             75              0        0  48.3   \n",
            "\n",
            "     DiabetesPedigreeFunction  Age  Outcome  \n",
            "0                       0.156   35        0  \n",
            "1                       1.114   33        1  \n",
            "2                       0.278   23        1  \n",
            "3                       0.536   21        0  \n",
            "7                       0.816   28        0  \n",
            "..                        ...  ...      ...  \n",
            "604                     0.677   25        0  \n",
            "605                     0.364   24        0  \n",
            "607                     0.190   47        0  \n",
            "611                     0.127   25        1  \n",
            "613                     0.238   32        1  \n",
            "\n",
            "[372 rows x 9 columns]\n"
          ]
        }
      ]
    },
    {
      "cell_type": "code",
      "source": [
        "glucose_mean = data['Glucose'].mean()\n",
        "glucose_std=data['Glucose'].std()\n",
        "print(\"\\nMean of glucose level:\",glucose_mean)\n",
        "print(\"Standard deviaton of glucose level:\",glucose_std)"
      ],
      "metadata": {
        "colab": {
          "base_uri": "https://localhost:8080/"
        },
        "id": "INNqapZa2U9B",
        "outputId": "e37ffe6a-699e-4e11-ce08-5a9c1bee0cce"
      },
      "id": "INNqapZa2U9B",
      "execution_count": 37,
      "outputs": [
        {
          "output_type": "stream",
          "name": "stdout",
          "text": [
            "\n",
            "Mean of glucose level: 121.5\n",
            "Standard deviaton of glucose level: 32.27591842655023\n"
          ]
        }
      ]
    },
    {
      "cell_type": "code",
      "source": [
        "plt.figure(figsize=(6,4))\n",
        "sns.boxplot(y=data['Insulin'])\n",
        "plt.title(\"boxplot of insulin levels\")\n",
        "plt.show()"
      ],
      "metadata": {
        "colab": {
          "base_uri": "https://localhost:8080/",
          "height": 372
        },
        "id": "RaPJG2B53g9y",
        "outputId": "243de865-75b9-4671-c734-1925170a349c"
      },
      "id": "RaPJG2B53g9y",
      "execution_count": 33,
      "outputs": [
        {
          "output_type": "display_data",
          "data": {
            "text/plain": [
              "<Figure size 600x400 with 1 Axes>"
            ],
            "image/png": "[encoded data removed]"
          },
          "metadata": {}
        }
      ]
    }
  ],
  "metadata": {
    "kernelspec": {
      "display_name": "Python 3",
      "language": "python",
      "name": "python3"
    },
    "language_info": {
      "name": "python",
      "version": "3.x"
    },
    "colab": {
      "provenance": [],
      "include_colab_link": true
    }
  },
  "nbformat": 4,
  "nbformat_minor": 5
}